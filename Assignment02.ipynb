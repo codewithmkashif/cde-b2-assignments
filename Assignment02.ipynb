{
 "cells": [
  {
   "cell_type": "markdown",
   "metadata": {},
   "source": [
    "1) A company decided to give bonus of 5% to employee if his/her year of service is more than 5 years.\n",
    "Ask user for their salary and year of service and print the net bonus amount."
   ]
  },
  {
   "cell_type": "code",
   "execution_count": 1,
   "metadata": {},
   "outputs": [
    {
     "name": "stdin",
     "output_type": "stream",
     "text": [
      "Add your work years 6\n",
      "Add your monthly salary 50000\n"
     ]
    },
    {
     "name": "stdout",
     "output_type": "stream",
     "text": [
      "Bonus Amount:  2500.0\n"
     ]
    }
   ],
   "source": [
    "employee_workYear = float(input(\"Add your work years\"))\n",
    "employee_Salary = int(input(\"Add your monthly salary\"))\n",
    "\n",
    "if employee_workYear > 5:\n",
    "    bonus = employee_Salary * 0.05\n",
    "    print(\"Bonus Amount: \", bonus)\n",
    "else:\n",
    "    print(\"Bonus Amount: \", 0)"
   ]
  },
  {
   "cell_type": "markdown",
   "metadata": {},
   "source": [
    "\n",
    "2) Write a program to check whether a person is eligible for voting or not. (accept age from user) if age is greater than 17 eligible otherwise not eligible"
   ]
  },
  {
   "cell_type": "code",
   "execution_count": 3,
   "metadata": {},
   "outputs": [
    {
     "name": "stdin",
     "output_type": "stream",
     "text": [
      "Your age 18\n"
     ]
    },
    {
     "name": "stdout",
     "output_type": "stream",
     "text": [
      "Eligible to vote\n"
     ]
    }
   ],
   "source": [
    "age = int(input(\"Your age\"))\n",
    "if age >= 18:\n",
    "    print(\"Eligible to vote\")\n",
    "else:\n",
    "    print(\"not eligible to vote\")"
   ]
  },
  {
   "cell_type": "markdown",
   "metadata": {},
   "source": [
    "\n",
    "3) Write a program to check whether a number entered by user is even or odd."
   ]
  },
  {
   "cell_type": "code",
   "execution_count": 4,
   "metadata": {},
   "outputs": [
    {
     "name": "stdin",
     "output_type": "stream",
     "text": [
      "Add a number 5\n"
     ]
    },
    {
     "name": "stdout",
     "output_type": "stream",
     "text": [
      "number is odd\n"
     ]
    }
   ],
   "source": [
    "number = int(input(\"Add a number\"))\n",
    "\n",
    "if number  % 2 == 0:\n",
    "    print (\"number is even\")\n",
    "else:\n",
    "    print (\"number is odd\")"
   ]
  },
  {
   "cell_type": "markdown",
   "metadata": {},
   "source": [
    "4) Write a program to check whether a number is divisible by 7 or not.\n",
    "Show Answer"
   ]
  },
  {
   "cell_type": "code",
   "execution_count": 6,
   "metadata": {},
   "outputs": [
    {
     "name": "stdin",
     "output_type": "stream",
     "text": [
      "Add a number 23\n"
     ]
    },
    {
     "name": "stdout",
     "output_type": "stream",
     "text": [
      "this number can't be divisible by 7\n"
     ]
    }
   ],
   "source": [
    "number = int(input(\"Add a number\"))\n",
    "\n",
    "if number  % 7 == 0:\n",
    "    print (\"this number can be divisible by 7 \")\n",
    "else:\n",
    "    print (\"this number can't be divisible by 7\")"
   ]
  },
  {
   "cell_type": "markdown",
   "metadata": {},
   "source": [
    "5) Write a program to display \n",
    "\"Hello\" if a number entered by user is a multiple of five , otherwise print \"Bye\"."
   ]
  },
  {
   "cell_type": "code",
   "execution_count": 8,
   "metadata": {},
   "outputs": [
    {
     "name": "stdin",
     "output_type": "stream",
     "text": [
      "Add a number 25\n"
     ]
    },
    {
     "name": "stdout",
     "output_type": "stream",
     "text": [
      "hello\n"
     ]
    }
   ],
   "source": [
    "number = int(input(\"Add a number\"))\n",
    "\n",
    "if number  % 5 == 0:\n",
    "    print (\"hello\")\n",
    "else:\n",
    "    print (\"Bye\")\n",
    "    "
   ]
  },
  {
   "cell_type": "markdown",
   "metadata": {},
   "source": [
    "7) Write a program to display the last digit of a number.\n"
   ]
  },
  {
   "cell_type": "code",
   "execution_count": 9,
   "metadata": {},
   "outputs": [
    {
     "name": "stdin",
     "output_type": "stream",
     "text": [
      "Add a number 543256\n"
     ]
    },
    {
     "name": "stdout",
     "output_type": "stream",
     "text": [
      "your last digit 6\n"
     ]
    }
   ],
   "source": [
    "number = int(input(\"Add a number\"))\n",
    "lastDigit =number  % 10\n",
    "print(\"your last digit\" , lastDigit)"
   ]
  },
  {
   "cell_type": "markdown",
   "metadata": {},
   "source": [
    "9) Take values of length and breadth of a rectangle from user and print if it is square or rectangle."
   ]
  },
  {
   "cell_type": "code",
   "execution_count": 12,
   "metadata": {},
   "outputs": [
    {
     "name": "stdin",
     "output_type": "stream",
     "text": [
      "Enter Length 5\n",
      "Enter Breadth 6\n"
     ]
    },
    {
     "name": "stdout",
     "output_type": "stream",
     "text": [
      "It is a Rectangle\n"
     ]
    }
   ],
   "source": [
    "Length = int(input(\"Enter Length\"))\n",
    "Breadth = int(input(\"Enter Breadth\"))\n",
    "\n",
    "if Length == Breadth:\n",
    "    print(\"It is a Square\")\n",
    "else:\n",
    "    print(\"It is a Rectangle\")"
   ]
  },
  {
   "cell_type": "markdown",
   "metadata": {},
   "source": [
    "10) Take two int values from user and print greatest among them."
   ]
  },
  {
   "cell_type": "code",
   "execution_count": 15,
   "metadata": {},
   "outputs": [
    {
     "name": "stdin",
     "output_type": "stream",
     "text": [
      "Enter first value 6\n",
      "Enter second value 5\n"
     ]
    },
    {
     "name": "stdout",
     "output_type": "stream",
     "text": [
      "6 is greater.\n"
     ]
    }
   ],
   "source": [
    "first_value = int(input(\"Enter first value\"))\n",
    "second_value = int(input(\"Enter second value\"))\n",
    "\n",
    "if first_value > second_value:\n",
    "    print(first_value, \"is greater.\")\n",
    "elif second_value > first_value:\n",
    "    print(second_value, \"is greater.\")\n",
    "else:\n",
    "    print(\"Both numbers are equal.\")\n",
    "    "
   ]
  },
  {
   "cell_type": "markdown",
   "metadata": {},
   "source": [
    "11) A shop will give discount of 10% if the cost of purchased quantity is more than 1000.\n",
    "Ask user for quantity\n",
    "Suppose, one unit will cost 100.\n",
    "Judge and print total cost for user."
   ]
  },
  {
   "cell_type": "code",
   "execution_count": 17,
   "metadata": {},
   "outputs": [
    {
     "name": "stdin",
     "output_type": "stream",
     "text": [
      "Enter quantity 5000\n"
     ]
    },
    {
     "name": "stdout",
     "output_type": "stream",
     "text": [
      "Total cost after discount : 450000.0\n"
     ]
    }
   ],
   "source": [
    "quantity = int(input(\"Enter quantity\"))\n",
    "\n",
    "price = 100\n",
    "totalcost = quantity * price\n",
    "\n",
    "if totalcost > 1000:\n",
    "    discount = totalcost * 0.1\n",
    "    totalcost -= discount\n",
    "    print(\"Total cost after discount :\", totalcost)\n",
    "else:\n",
    "    print(\"Total cost :\", totalcost)\n"
   ]
  },
  {
   "cell_type": "markdown",
   "metadata": {},
   "source": [
    "12) A school has following rules for grading system:\n",
    "\n",
    "a. Below 25 - F\n",
    "\n",
    "b. 25 to 45 - E\n",
    "\n",
    "c. 45 to 50 - D\n",
    "\n",
    "d. 50 to 60 - C\n",
    "\n",
    "e. 60 to 80 - B\n",
    "\n",
    "f. Above 80 - A\n",
    "\n",
    "Ask user to enter marks and print the corresponding grade."
   ]
  },
  {
   "cell_type": "code",
   "execution_count": 18,
   "metadata": {},
   "outputs": [
    {
     "name": "stdin",
     "output_type": "stream",
     "text": [
      "Enter your Marks:  56\n"
     ]
    },
    {
     "name": "stdout",
     "output_type": "stream",
     "text": [
      "Grade C\n"
     ]
    }
   ],
   "source": [
    "marks = int(input(\"Enter your Marks: \"))\n",
    "\n",
    "if marks> 80 and marks <= 100:\n",
    "    print(\"Grade A\")\n",
    "elif marks > 60 and marks <= 80:\n",
    "    print(\"Grade B\")\n",
    "elif marks > 50 and marks <= 60:\n",
    "    print(\"Grade C\")\n",
    "elif marks > 45 and marks <= 50:\n",
    "    print(\"Grade D\")\n",
    "elif marks > 25 and marks <=45:\n",
    "    print(\"Grade E\")\n",
    "elif marks > 0 and marks <=25:\n",
    "    print('Grade F')\n",
    "else: \n",
    "    print('Invalid Input')"
   ]
  },
  {
   "cell_type": "markdown",
   "metadata": {},
   "source": [
    "14)A student will not be allowed to sit in exam if his/her attendence is less than 75%.\n",
    "\n",
    "Take following input from user\n",
    "\n",
    "Number of classes held\n",
    "\n",
    "Number of classes attended.\n",
    "\n",
    "And print\n",
    "\n",
    "percentage of class attended\n",
    "\n",
    "Is student is allowed to sit in exam or not.\n"
   ]
  },
  {
   "cell_type": "code",
   "execution_count": 20,
   "metadata": {},
   "outputs": [
    {
     "name": "stdin",
     "output_type": "stream",
     "text": [
      "Enter total number of classes held:  4\n",
      "Enter number of classes attended:  3\n"
     ]
    },
    {
     "name": "stdout",
     "output_type": "stream",
     "text": [
      "Attendance Percentage 75.0 %\n",
      "Allowed to sit in exam.\n"
     ]
    }
   ],
   "source": [
    "NumberOfClass = int(input(\"Enter total number of classes held: \"))\n",
    "NumberOfClassAttend = int(input(\"Enter number of classes attended: \"))\n",
    "\n",
    "\n",
    "attendance = (NumberOfClassAttend / NumberOfClass) * 100\n",
    "print(\"Attendance Percentage\", attendance, \"%\")\n",
    "\n",
    "if attendance <= 75:\n",
    "    print(\"Allowed to sit in exam.\")\n",
    "else:\n",
    "    print(\"Not allowed to sit in exam.\")"
   ]
  },
  {
   "cell_type": "markdown",
   "metadata": {},
   "source": [
    "15) Modify the above question to allow student to sit if he/she has medical cause. Ask user if he/she has medical cause or not ( 'Y' or 'N' ) and print accordingly."
   ]
  },
  {
   "cell_type": "code",
   "execution_count": 22,
   "metadata": {},
   "outputs": [
    {
     "name": "stdin",
     "output_type": "stream",
     "text": [
      "Enter total number of classes held:  4\n",
      "Enter number of classes attended:  1\n",
      "Any medical cause (Y/N):  y\n"
     ]
    },
    {
     "name": "stdout",
     "output_type": "stream",
     "text": [
      "Attendance Percentage: 25.0 %\n",
      "Allowed to sit in exam as attendance is below 75% due to medical cause.\n"
     ]
    }
   ],
   "source": [
    "NumberOfClass = int(input(\"Enter total number of classes held: \"))\n",
    "NumberOfClassAttend = int(input(\"Enter number of classes attended: \"))\n",
    "isMedicalcause = input(\"Any medical cause (Y/N): \").strip().upper()\n",
    "\n",
    "attendance = (NumberOfClassAttend / NumberOfClass) * 100\n",
    "print(\"Attendance Percentage:\", attendance, \"%\")\n",
    "\n",
    "if attendance >= 75:\n",
    "    print(\"Allowed to sit in exam.\")\n",
    "elif isMedicalcause == 'Y':\n",
    "    print(\"Allowed to sit in exam as attendance is below 75% due to medical cause.\")\n",
    "else:\n",
    "    print(\"Not allowed to sit in exam.\")"
   ]
  },
  {
   "cell_type": "markdown",
   "metadata": {},
   "source": [
    "16) Write a program to check if a year is leap year or not.\n",
    "\n",
    "If a year is divisible by 4 then it is leap year but if the year is century year like 2000, 1900, 2100 then it must be divisible by 400."
   ]
  },
  {
   "cell_type": "code",
   "execution_count": 25,
   "metadata": {},
   "outputs": [
    {
     "name": "stdin",
     "output_type": "stream",
     "text": [
      "Enter a year:  2025\n"
     ]
    },
    {
     "name": "stdout",
     "output_type": "stream",
     "text": [
      "not a leap year.\n"
     ]
    }
   ],
   "source": [
    "year = int(input(\"Enter a year: \"))\n",
    "\n",
    "if (year % 4 == 0 and year % 100 != 0) or (year % 400 == 0):\n",
    "    print(\"leap year.\")\n",
    "else:\n",
    "    print(\"not a leap year.\")"
   ]
  },
  {
   "cell_type": "markdown",
   "metadata": {},
   "source": [
    "17) Ask user to enter age, gender ( M or F ), marital status ( Y or N ) and then using following rules print their place of service.\n",
    "\n",
    "if employee is female, then she will work only in urban areas.\n",
    "\n",
    "if employee is a male and age is in between 20 to 40 then he may work in anywhere\n",
    "\n",
    "if employee is male and age is in between 40 t0 60 then he will work in urban areas only.\n",
    "\n",
    "And any other input of age should print \"ERROR\""
   ]
  },
  {
   "cell_type": "code",
   "execution_count": 27,
   "metadata": {},
   "outputs": [
    {
     "name": "stdin",
     "output_type": "stream",
     "text": [
      "Enter your age:  15\n",
      "What's your gender (M/F):  F\n"
     ]
    },
    {
     "name": "stdout",
     "output_type": "stream",
     "text": [
      "Will work only in urban areas.\n"
     ]
    }
   ],
   "source": [
    "age = int(input(\"Enter your age: \"))\n",
    "gender = input(\"What's your gender (M/F): \")\n",
    "# marital_status = input(\"Enter your marital status (Y/N): \")\n",
    "\n",
    "if gender == \"F\":\n",
    "    print(\"Will work only in urban areas.\")\n",
    "elif (gender == \"M\") and (age >=  20 and age <40):\n",
    "    print(\"Can work anywhere\")\n",
    "elif (gender == \"M\") and (age >= 40 and age <60):\n",
    "    print(\"Can work in urban areas only.\")\n",
    "else:\n",
    "    print(\"ERROR\")"
   ]
  },
  {
   "cell_type": "markdown",
   "metadata": {},
   "source": [
    "6) Write a program to calculate the electricity bill (accept number of unit from user) according to the following criteria :\n",
    "     Unit                                                     Price  \n",
    "uptp 100 units                                             no charge\n",
    "Next 200 units                                              Rs 5 per unit\n",
    "After 200 units                                             Rs 10 per unit\n",
    "(For example if input unit is 350 than total bill amount is Rs.3500\n",
    "(For example if input unit is 97 than total bill amount is Rs.0\n",
    "(For example if input unit is 150 than total bill amount is Rs.750"
   ]
  },
  {
   "cell_type": "markdown",
   "metadata": {},
   "source": [
    "13) Take input of age of 3 people by user and determine oldest and youngest among them."
   ]
  },
  {
   "cell_type": "code",
   "execution_count": 1,
   "metadata": {},
   "outputs": [
    {
     "name": "stdin",
     "output_type": "stream",
     "text": [
      "Enter the number of units consumed:  800\n"
     ]
    },
    {
     "name": "stdout",
     "output_type": "stream",
     "text": [
      "Total bill amount is Rs.6000\n"
     ]
    }
   ],
   "source": [
    "\n",
    "units = int(input(\"Enter the number of units consumed: \"))\n",
    "if units <= 100:\n",
    "    bill = 0\n",
    "elif units <= 300:\n",
    "    bill = (units - 100) * 5\n",
    "else:\n",
    "    bill = (200 * 5) + (units - 300) * 10\n",
    "\n",
    "\n",
    "print(f\"Total bill amount is Rs.{bill}\")"
   ]
  },
  {
   "cell_type": "code",
   "execution_count": null,
   "metadata": {},
   "outputs": [],
   "source": []
  }
 ],
 "metadata": {
  "kernelspec": {
   "display_name": "Python 3 (ipykernel)",
   "language": "python",
   "name": "python3"
  },
  "language_info": {
   "codemirror_mode": {
    "name": "ipython",
    "version": 3
   },
   "file_extension": ".py",
   "mimetype": "text/x-python",
   "name": "python",
   "nbconvert_exporter": "python",
   "pygments_lexer": "ipython3",
   "version": "3.12.7"
  }
 },
 "nbformat": 4,
 "nbformat_minor": 4
}

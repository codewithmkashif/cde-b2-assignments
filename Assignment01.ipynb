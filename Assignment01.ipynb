{
 "cells": [
  {
   "cell_type": "markdown",
   "metadata": {},
   "source": [
    "# Part -1 Python Basics (Variables)"
   ]
  },
  {
   "cell_type": "markdown",
   "metadata": {},
   "source": [
    "1. Print Your Name with your Father name and Date of birth using suitable escape sequence charactor"
   ]
  },
  {
   "cell_type": "code",
   "execution_count": 1,
   "metadata": {},
   "outputs": [
    {
     "name": "stdout",
     "output_type": "stream",
     "text": [
      " Name:\t MUHAMMAD KASHIF\n",
      " Father Name:\t ALI MUHAMMAD KHATRI\n",
      " Date of birth: 02/Oct/1998 \n"
     ]
    }
   ],
   "source": [
    "print(\" Name:\\t MUHAMMAD KASHIF\\n Father Name:\\t ALI MUHAMMAD KHATRI\\n Date of birth: 02/Oct/1998 \")"
   ]
  },
  {
   "cell_type": "markdown",
   "metadata": {},
   "source": [
    "2. Write your small bio using variables and print it using print function"
   ]
  },
  {
   "cell_type": "code",
   "execution_count": 2,
   "metadata": {},
   "outputs": [
    {
     "name": "stdout",
     "output_type": "stream",
     "text": [
      "I'm a .NET developer with expertise in C#, ASP.NET, and building scalable applications. I focus on delivering high-quality, efficient solutions while staying updated with the latest technologies.\n"
     ]
    }
   ],
   "source": [
    "bio = \"I'm a .NET developer with expertise in C#, ASP.NET, and building scalable applications. I focus on delivering high-quality, efficient solutions while staying updated with the latest technologies.\"\n",
    "print(bio)"
   ]
  },
  {
   "cell_type": "markdown",
   "metadata": {},
   "source": [
    "3. Write a program in which use all the operators we can use in Python"
   ]
  },
  {
   "cell_type": "code",
   "execution_count": 3,
   "metadata": {},
   "outputs": [
    {
     "name": "stdout",
     "output_type": "stream",
     "text": [
      "Arithmetic Operators:\n",
      "Addition: 53\n",
      "Subtraction: 47\n",
      "Multiplication: 150\n",
      "Division: 16.666666666666668\n",
      "Floor Division: 16\n",
      "Modulus: 2\n",
      "Exponentiation: 125000\n",
      "\n",
      "Comparison Operators:\n",
      "Equal: False\n",
      "Not Equal: True\n",
      "Greater Than: True\n",
      "Less Than: False\n",
      "Greater or Equal: True\n",
      "Less or Equal: False\n"
     ]
    }
   ],
   "source": [
    "# 1. Arithmetic Operators\n",
    "a = 50\n",
    "b = 3\n",
    "print(\"Arithmetic Operators:\")\n",
    "print(\"Addition:\", a + b)       \n",
    "print(\"Subtraction:\", a - b)    \n",
    "print(\"Multiplication:\", a * b) \n",
    "print(\"Division:\", a / b)       \n",
    "print(\"Floor Division:\", a // b) \n",
    "print(\"Modulus:\", a % b)        \n",
    "print(\"Exponentiation:\", a ** b) \n",
    "\n",
    "# 2. Comparison Operators\n",
    "print(\"\\nComparison Operators:\")\n",
    "print(\"Equal:\", a == b)        \n",
    "print(\"Not Equal:\", a != b)    \n",
    "print(\"Greater Than:\", a > b)  \n",
    "print(\"Less Than:\", a < b)     \n",
    "print(\"Greater or Equal:\", a >= b)\n",
    "print(\"Less or Equal:\", a <= b)  "
   ]
  },
  {
   "cell_type": "markdown",
   "metadata": {},
   "source": [
    "4. Completes the following steps of small task:\n",
    "    - Mention Marks of English , Islamiat and Maths out of 100 in 3 different variables\n",
    "    - Mention Variable of Total Marks and assign 300 to it\n",
    "    - Calculate Percentage"
   ]
  },
  {
   "cell_type": "code",
   "execution_count": 4,
   "metadata": {},
   "outputs": [
    {
     "name": "stdout",
     "output_type": "stream",
     "text": [
      "66.66666666666666 %\n"
     ]
    }
   ],
   "source": [
    "English = 50\n",
    "Islamiat = 70\n",
    "Maths = 80 \n",
    "Total_Marks= 300\n",
    "Percentage = ((English+Islamiat+Maths)/Total_Marks)*100\n",
    "print(Percentage,\"%\")"
   ]
  },
  {
   "cell_type": "markdown",
   "metadata": {},
   "source": [
    "# Part -2 Python Basics (Conditional Statements)"
   ]
  },
  {
   "cell_type": "markdown",
   "metadata": {},
   "source": [
    "1) A company decided to give bonus of 5% to employee if his/her year of service is more than 5 years.\n",
    "Ask user for their salary and year of service and print the net bonus amount."
   ]
  },
  {
   "cell_type": "code",
   "execution_count": 5,
   "metadata": {},
   "outputs": [
    {
     "name": "stdin",
     "output_type": "stream",
     "text": [
      "Add your work years 6\n",
      "Add your monthly salary 50000\n"
     ]
    },
    {
     "name": "stdout",
     "output_type": "stream",
     "text": [
      "Bonus Amount:  2500.0\n"
     ]
    }
   ],
   "source": [
    "employee_workYear = float(input(\"Add your work years\"))\n",
    "employee_Salary = int(input(\"Add your monthly salary\"))\n",
    "\n",
    "if employee_workYear > 5:\n",
    "    bonus = employee_Salary * 0.05\n",
    "    print(\"Bonus Amount: \", bonus)\n",
    "else:\n",
    "    print(\"Bonus Amount: \", 0)"
   ]
  },
  {
   "cell_type": "markdown",
   "metadata": {},
   "source": [
    "\n",
    "2) Write a program to check whether a person is eligible for voting or not. (accept age from user) if age is greater than 17 eligible otherwise not eligible"
   ]
  },
  {
   "cell_type": "code",
   "execution_count": 6,
   "metadata": {},
   "outputs": [
    {
     "name": "stdin",
     "output_type": "stream",
     "text": [
      "Your age 17\n"
     ]
    },
    {
     "name": "stdout",
     "output_type": "stream",
     "text": [
      "not eligible to vote\n"
     ]
    }
   ],
   "source": [
    "age = int(input(\"Your age\"))\n",
    "if age >= 18:\n",
    "    print(\"Eligible to vote\")\n",
    "else:\n",
    "    print(\"not eligible to vote\")"
   ]
  },
  {
   "cell_type": "markdown",
   "metadata": {},
   "source": [
    "\n",
    "3) Write a program to check whether a number entered by user is even or odd."
   ]
  },
  {
   "cell_type": "code",
   "execution_count": 7,
   "metadata": {},
   "outputs": [
    {
     "name": "stdin",
     "output_type": "stream",
     "text": [
      "Add a number 5\n"
     ]
    },
    {
     "name": "stdout",
     "output_type": "stream",
     "text": [
      "number is odd\n"
     ]
    }
   ],
   "source": [
    "number = int(input(\"Add a number\"))\n",
    "\n",
    "if number  % 2 == 0:\n",
    "    print (\"number is even\")\n",
    "else:\n",
    "    print (\"number is odd\")"
   ]
  },
  {
   "cell_type": "markdown",
   "metadata": {},
   "source": [
    "4) Write a program to check whether a number is divisible by 7 or not.\n",
    "Show Answer"
   ]
  },
  {
   "cell_type": "code",
   "execution_count": 8,
   "metadata": {},
   "outputs": [
    {
     "name": "stdin",
     "output_type": "stream",
     "text": [
      "Add a number 14\n"
     ]
    },
    {
     "name": "stdout",
     "output_type": "stream",
     "text": [
      "this number can be divisible by 7 \n"
     ]
    }
   ],
   "source": [
    "number = int(input(\"Add a number\"))\n",
    "\n",
    "if number  % 7 == 0:\n",
    "    print (\"this number can be divisible by 7 \")\n",
    "else:\n",
    "    print (\"this number can't be divisible by 7\")"
   ]
  },
  {
   "cell_type": "markdown",
   "metadata": {},
   "source": [
    "5) Write a program to display \n",
    "\"Hello\" if a number entered by user is a multiple of five , otherwise print \"Bye\"."
   ]
  },
  {
   "cell_type": "code",
   "execution_count": 9,
   "metadata": {},
   "outputs": [
    {
     "name": "stdin",
     "output_type": "stream",
     "text": [
      "Add a number 500\n"
     ]
    },
    {
     "name": "stdout",
     "output_type": "stream",
     "text": [
      "hello\n"
     ]
    }
   ],
   "source": [
    "number = int(input(\"Add a number\"))\n",
    "\n",
    "if number  % 5 == 0:\n",
    "    print (\"hello\")\n",
    "else:\n",
    "    print (\"Bye\")"
   ]
  },
  {
   "cell_type": "markdown",
   "metadata": {},
   "source": [
    "7) Write a program to display the last digit of a number.\n"
   ]
  },
  {
   "cell_type": "code",
   "execution_count": 10,
   "metadata": {},
   "outputs": [
    {
     "name": "stdin",
     "output_type": "stream",
     "text": [
      "Add a number 764\n"
     ]
    },
    {
     "name": "stdout",
     "output_type": "stream",
     "text": [
      "your last digit 4\n"
     ]
    }
   ],
   "source": [
    "number = int(input(\"Add a number\"))\n",
    "lastDigit =number  % 10\n",
    "print(\"your last digit\" , lastDigit)"
   ]
  },
  {
   "cell_type": "markdown",
   "metadata": {},
   "source": [
    "9) Take values of length and breadth of a rectangle from user and print if it is square or rectangle."
   ]
  },
  {
   "cell_type": "code",
   "execution_count": 11,
   "metadata": {},
   "outputs": [
    {
     "name": "stdin",
     "output_type": "stream",
     "text": [
      "Enter Length 5\n",
      "Enter Breadth 5\n"
     ]
    },
    {
     "name": "stdout",
     "output_type": "stream",
     "text": [
      "It is a Square\n"
     ]
    }
   ],
   "source": [
    "Length = int(input(\"Enter Length\"))\n",
    "Breadth = int(input(\"Enter Breadth\"))\n",
    "\n",
    "if Length == Breadth:\n",
    "    print(\"It is a Square\")\n",
    "else:\n",
    "    print(\"It is a Rectangle\")"
   ]
  },
  {
   "cell_type": "markdown",
   "metadata": {},
   "source": [
    "10) Take two int values from user and print greatest among them."
   ]
  },
  {
   "cell_type": "code",
   "execution_count": 12,
   "metadata": {},
   "outputs": [
    {
     "name": "stdin",
     "output_type": "stream",
     "text": [
      "Enter first value 5\n",
      "Enter second value 5\n"
     ]
    },
    {
     "name": "stdout",
     "output_type": "stream",
     "text": [
      "Both numbers are equal.\n"
     ]
    }
   ],
   "source": [
    "first_value = int(input(\"Enter first value\"))\n",
    "second_value = int(input(\"Enter second value\"))\n",
    "\n",
    "if first_value > second_value:\n",
    "    print(first_value, \"is greater.\")\n",
    "elif second_value > first_value:\n",
    "    print(second_value, \"is greater.\")\n",
    "else:\n",
    "    print(\"Both numbers are equal.\")\n",
    "    "
   ]
  },
  {
   "cell_type": "markdown",
   "metadata": {},
   "source": [
    "11) A shop will give discount of 10% if the cost of purchased quantity is more than 1000.\n",
    "Ask user for quantity\n",
    "Suppose, one unit will cost 100.\n",
    "Judge and print total cost for user.\n"
   ]
  },
  {
   "cell_type": "code",
   "execution_count": 14,
   "metadata": {},
   "outputs": [
    {
     "name": "stdin",
     "output_type": "stream",
     "text": [
      "Enter quantity 50\n"
     ]
    },
    {
     "name": "stdout",
     "output_type": "stream",
     "text": [
      "Total cost after discount : 4500.0\n"
     ]
    }
   ],
   "source": [
    " quantity = int(input(\"Enter quantity\"))\n",
    "\n",
    "price = 100\n",
    "totalcost = quantity * price\n",
    "\n",
    "if totalcost > 1000:\n",
    "    discount = totalcost * 0.1\n",
    "    totalcost -= discount\n",
    "    print(\"Total cost after discount :\", totalcost)\n",
    "else:\n",
    "    print(\"Total cost :\", totalcost)\n"
   ]
  },
  {
   "cell_type": "markdown",
   "metadata": {},
   "source": [
    "12) A school has following rules for grading system:\n",
    "\n",
    "a. Below 25 - F\n",
    "\n",
    "b. 25 to 45 - E\n",
    "\n",
    "c. 45 to 50 - D\n",
    "\n",
    "d. 50 to 60 - C\n",
    "\n",
    "e. 60 to 80 - B\n",
    "\n",
    "f. Above 80 - A\n",
    "\n",
    "Ask user to enter marks and print the corresponding grade."
   ]
  },
  {
   "cell_type": "code",
   "execution_count": 15,
   "metadata": {},
   "outputs": [
    {
     "name": "stdin",
     "output_type": "stream",
     "text": [
      "Enter your Marks:  25\n"
     ]
    },
    {
     "name": "stdout",
     "output_type": "stream",
     "text": [
      "Grade F\n"
     ]
    }
   ],
   "source": [
    "marks = int(input(\"Enter your Marks: \"))\n",
    "\n",
    "if marks> 80 and marks <= 100:\n",
    "    print(\"Grade A\")\n",
    "elif marks > 60 and marks <= 80:\n",
    "    print(\"Grade B\")\n",
    "elif marks > 50 and marks <= 60:\n",
    "    print(\"Grade C\")\n",
    "elif marks > 45 and marks <= 50:\n",
    "    print(\"Grade D\")\n",
    "elif marks > 25 and marks <=45:\n",
    "    print(\"Grade E\")\n",
    "elif marks > 0 and marks <=25:\n",
    "    print('Grade F')\n",
    "else: \n",
    "    print('Invalid Input')"
   ]
  },
  {
   "cell_type": "markdown",
   "metadata": {},
   "source": [
    "14)A student will not be allowed to sit in exam if his/her attendence is less than 75%.\n",
    "\n",
    "Take following input from user\n",
    "\n",
    "- Number of classes held\n",
    "\n",
    "- Number of classes attended.\n",
    "\n",
    "And print\n",
    "\n",
    "- percentage of class attended\n",
    "\n",
    "- Is student is allowed to sit in exam or not.\n"
   ]
  },
  {
   "cell_type": "code",
   "execution_count": 16,
   "metadata": {},
   "outputs": [
    {
     "name": "stdin",
     "output_type": "stream",
     "text": [
      "Enter total number of classes held:  50\n",
      "Enter number of classes attended:  25\n"
     ]
    },
    {
     "name": "stdout",
     "output_type": "stream",
     "text": [
      "Attendance Percentage 50.0 %\n",
      "Allowed to sit in exam.\n"
     ]
    }
   ],
   "source": [
    "NumberOfClass = int(input(\"Enter total number of classes held: \"))\n",
    "NumberOfClassAttend = int(input(\"Enter number of classes attended: \"))\n",
    "\n",
    "\n",
    "attendance = (NumberOfClassAttend / NumberOfClass) * 100\n",
    "print(\"Attendance Percentage\", attendance, \"%\")\n",
    "\n",
    "if attendance <= 75:\n",
    "    print(\"Allowed to sit in exam.\")\n",
    "else:\n",
    "    print(\"Not allowed to sit in exam.\")\n",
    "    \n",
    "\n"
   ]
  },
  {
   "cell_type": "markdown",
   "metadata": {},
   "source": [
    "15) Modify the above question to allow student to sit if he/she has medical cause. Ask user if he/she has medical cause or not ( 'Y' or 'N' ) and print accordingly."
   ]
  },
  {
   "cell_type": "code",
   "execution_count": 27,
   "metadata": {},
   "outputs": [
    {
     "name": "stdin",
     "output_type": "stream",
     "text": [
      "Enter total number of classes held:  50\n",
      "Enter number of classes attended:  25\n",
      "Any medical cause (Y/N):  Y\n"
     ]
    },
    {
     "name": "stdout",
     "output_type": "stream",
     "text": [
      "Attendance Percentage: 50.0 %\n",
      "Allowed to sit in exam as attendance is below 75% due to medical cause.\n"
     ]
    }
   ],
   "source": [
    "NumberOfClass = int(input(\"Enter total number of classes held: \"))\n",
    "NumberOfClassAttend = int(input(\"Enter number of classes attended: \"))\n",
    "isMedicalcause = input(\"Any medical cause (Y/N): \").strip().upper()\n",
    "\n",
    "attendance = (NumberOfClassAttend / NumberOfClass) * 100\n",
    "print(\"Attendance Percentage:\", attendance, \"%\")\n",
    "\n",
    "if attendance >= 75:\n",
    "    print(\"Allowed to sit in exam.\")\n",
    "elif isMedicalcause == 'Y':\n",
    "    print(\"Allowed to sit in exam as attendance is below 75% due to medical cause.\")\n",
    "else:\n",
    "    print(\"Not allowed to sit in exam.\")"
   ]
  },
  {
   "cell_type": "markdown",
   "metadata": {},
   "source": [
    "16) Write a program to check if a year is leap year or not.\n",
    "\n",
    "If a year is divisible by 4 then it is leap year but if the year is century year like 2000, 1900, 2100 then it must be divisible by 400."
   ]
  },
  {
   "cell_type": "code",
   "execution_count": 30,
   "metadata": {},
   "outputs": [
    {
     "name": "stdin",
     "output_type": "stream",
     "text": [
      "Enter a year:  1800\n"
     ]
    },
    {
     "name": "stdout",
     "output_type": "stream",
     "text": [
      "not a leap year.\n"
     ]
    }
   ],
   "source": [
    "year = int(input(\"Enter a year: \"))\n",
    "\n",
    "if (year % 4 == 0 and year % 100 != 0) or (year % 400 == 0):\n",
    "    print(\"leap year.\")\n",
    "else:\n",
    "    print(\"not a leap year.\")"
   ]
  },
  {
   "cell_type": "markdown",
   "metadata": {},
   "source": [
    "17) Ask user to enter age, gender ( M or F ), marital status ( Y or N ) and then using following rules print their place of service.\n",
    "\n",
    "if employee is female, then she will work only in urban areas.\n",
    "\n",
    "if employee is a male and age is in between 20 to 40 then he may work in anywhere\n",
    "\n",
    "if employee is male and age is in between 40 t0 60 then he will work in urban areas only.\n",
    "\n",
    "And any other input of age should print \"ERROR\""
   ]
  },
  {
   "cell_type": "code",
   "execution_count": 32,
   "metadata": {},
   "outputs": [
    {
     "name": "stdin",
     "output_type": "stream",
     "text": [
      "Enter your age:  20\n",
      "What's your gender (M/F):  F\n"
     ]
    },
    {
     "name": "stdout",
     "output_type": "stream",
     "text": [
      "Will work only in urban areas.\n"
     ]
    }
   ],
   "source": [
    "age = int(input(\"Enter your age: \"))\n",
    "gender = input(\"What's your gender (M/F): \")\n",
    "# marital_status = input(\"Enter your marital status (Y/N): \")\n",
    "\n",
    "if gender == \"F\":\n",
    "    print(\"Will work only in urban areas.\")\n",
    "elif (gender == \"M\") and (age >=  20 and age <40):\n",
    "    print(\"Can work anywhere\")\n",
    "elif (gender == \"M\") and (age >= 40 and age <60):\n",
    "    print(\"Can work in urban areas only.\")\n",
    "else:\n",
    "    print(\"ERROR\")"
   ]
  },
  {
   "cell_type": "markdown",
   "metadata": {},
   "source": [
    "6) Write a program to calculate the electricity bill (accept number of unit from user) according to the following criteria :\n",
    "     Unit                                                     Price  \n",
    "uptp 100 units                                             no charge\n",
    "Next 200 units                                              Rs 5 per unit\n",
    "After 200 units                                             Rs 10 per unit\n",
    "(For example if input unit is 350 than total bill amount is Rs.3500\n",
    "(For example if input unit is 97 than total bill amount is Rs.0\n",
    "(For example if input unit is 150 than total bill amount is Rs.750"
   ]
  },
  {
   "cell_type": "code",
   "execution_count": null,
   "metadata": {},
   "outputs": [],
   "source": [
    "\n",
    "units = int(input(\"Enter the number of units consumed: \"))\n",
    "\n",
    "\n",
    "if units <= 100:\n",
    "    bill = 0\n",
    "elif units <= 300:\n",
    "    bill = (units - 100) * 5\n",
    "else:\n",
    "    bill = (200 * 5) + (units - 300) * 10\n",
    "\n",
    "\n",
    "print(f\"Total bill amount is Rs.{bill}\")"
   ]
  },
  {
   "cell_type": "markdown",
   "metadata": {},
   "source": [
    "13) Take input of age of 3 people by user and determine oldest and youngest among them."
   ]
  },
  {
   "cell_type": "code",
   "execution_count": null,
   "metadata": {},
   "outputs": [],
   "source": [
    "# Taking input of ages from the user\n",
    "age1 = int(input(\"Enter the age of first person: \"))\n",
    "age2 = int(input(\"Enter the age of second person: \"))\n",
    "age3 = int(input(\"Enter the age of third person: \"))\n",
    "\n",
    "\n",
    "if age1 >= age2 and age1 >= age3:\n",
    "    oldest = age1\n",
    "elif age2 >= age1 and age2 >= age3:\n",
    "    oldest = age2\n",
    "else:\n",
    "    oldest = age3\n",
    "\n",
    "if age1 <= age2 and age1 <= age3:\n",
    "    youngest = age1\n",
    "elif age2 <= age1 and age2 <= age3:\n",
    "    youngest = age2\n",
    "else:\n",
    "    youngest = age3\n",
    "\n",
    "print(f\"The oldest person is {oldest} years old.\")\n",
    "print(f\"The youngest person is {youngest} years old.\")"
   ]
  }
 ],
 "metadata": {
  "kernelspec": {
   "display_name": "Python 3 (ipykernel)",
   "language": "python",
   "name": "python3"
  },
  "language_info": {
   "codemirror_mode": {
    "name": "ipython",
    "version": 3
   },
   "file_extension": ".py",
   "mimetype": "text/x-python",
   "name": "python",
   "nbconvert_exporter": "python",
   "pygments_lexer": "ipython3",
   "version": "3.12.7"
  }
 },
 "nbformat": 4,
 "nbformat_minor": 4
}

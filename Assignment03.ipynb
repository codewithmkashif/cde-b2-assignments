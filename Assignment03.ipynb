{
 "cells": [
  {
   "cell_type": "markdown",
   "id": "7a0cc14f-0b2c-435c-8cea-54350617a75c",
   "metadata": {},
   "source": [
    "1) Write a program that accepts a string from user. Your program should count and display number of vowels in that string."
   ]
  },
  {
   "cell_type": "code",
   "execution_count": 9,
   "id": "b8b8a850-c703-427d-8a8a-c6f946b9715b",
   "metadata": {},
   "outputs": [
    {
     "name": "stdin",
     "output_type": "stream",
     "text": [
      "Enter a string:  MUHAMMAD KASHIF\n"
     ]
    },
    {
     "name": "stdout",
     "output_type": "stream",
     "text": [
      "Number of vowels in the string: 5\n"
     ]
    }
   ],
   "source": [
    "user_input = input(\"Enter a string: \")\n",
    "vowels = \"aeiouAEIOU\"\n",
    "count = 0\n",
    "for char in user_input:\n",
    "    if char in vowels:\n",
    "        count += 1\n",
    "print(f\"Number of vowels in the string: {count}\")"
   ]
  },
  {
   "cell_type": "markdown",
   "id": "6b60ccd4-4072-4498-b9e0-7e38b78b1b6c",
   "metadata": {},
   "source": [
    "2. Write a program that reads a string from the keyboard and displays:  \n",
    "* The number of uppercase letters in the string  \n",
    "* The number of lowercase letters in the string  \n",
    "* The number of digits in the string  \n",
    "* The number of whitespace characters in the string  "
   ]
  },
  {
   "cell_type": "code",
   "execution_count": 12,
   "id": "79d79e72-f664-4e61-ae8c-dd4fb4d76fb4",
   "metadata": {},
   "outputs": [
    {
     "name": "stdin",
     "output_type": "stream",
     "text": [
      "Enter a string:  KashifKhatri44@gmail.com\n"
     ]
    },
    {
     "name": "stdout",
     "output_type": "stream",
     "text": [
      "Number of uppercase letters: 2\n",
      "Number of lowercase letters: 18\n",
      "Number of digits: 2\n",
      "Number of whitespace characters: 0\n"
     ]
    }
   ],
   "source": [
    "\n",
    "user_input = input(\"Enter a string: \")\n",
    "\n",
    "uppercase_count = 0\n",
    "lowercase_count = 0\n",
    "digit_count = 0\n",
    "whitespace_count = 0\n",
    "\n",
    "for char in user_input:\n",
    "    if char.isupper():\n",
    "        uppercase_count += 1\n",
    "    elif char.islower():\n",
    "        lowercase_count += 1\n",
    "    elif char.isdigit():\n",
    "        digit_count += 1\n",
    "    elif char.isspace():\n",
    "        whitespace_count += 1\n",
    "\n",
    "print(\"Number of uppercase letters:\", uppercase_count)\n",
    "print(\"Number of lowercase letters:\", lowercase_count)\n",
    "print(\"Number of digits:\", digit_count)\n",
    "print(\"Number of whitespace characters:\", whitespace_count)"
   ]
  },
  {
   "cell_type": "markdown",
   "id": "98e73736-e22a-4743-b56c-cd3f4133bbca",
   "metadata": {},
   "source": [
    "3. Write a Python program that accepts a string from the user. Your program should create and display a new string where the first and last characters have been exchanged.\n",
    "\n",
    "    For example, if the user enters the string 'HELLO', then the new string would be 'OELLH'."
   ]
  },
  {
   "cell_type": "code",
   "execution_count": 18,
   "id": "d84a721d-5ad0-43e2-bd4f-62032a5176ae",
   "metadata": {},
   "outputs": [
    {
     "name": "stdin",
     "output_type": "stream",
     "text": [
      "Enter a string:  KASHIF\n"
     ]
    },
    {
     "name": "stdout",
     "output_type": "stream",
     "text": [
      "FASHIK\n"
     ]
    }
   ],
   "source": [
    "\n",
    "user_input = input(\"Enter a string: \")\n",
    "if len(user_input) > 1:\n",
    "    new_string = user_input[-1] + user_input[1:-1] + user_input[0]\n",
    "else:\n",
    "    new_string = user_input\n",
    "print(new_string)"
   ]
  },
  {
   "cell_type": "markdown",
   "id": "dcb8ac02-a9c7-4628-b92e-df196ceb5454",
   "metadata": {},
   "source": [
    "4. Write a Python program that accepts a string from the user. Your program should create a new string in reverse of the first string and display it."
   ]
  },
  {
   "cell_type": "code",
   "execution_count": 24,
   "id": "4b7cc1db-b03a-4ea1-ba83-ecd0c7c72032",
   "metadata": {},
   "outputs": [
    {
     "name": "stdin",
     "output_type": "stream",
     "text": [
      "Enter a string:  fihsak\n"
     ]
    },
    {
     "name": "stdout",
     "output_type": "stream",
     "text": [
      "kashif\n"
     ]
    }
   ],
   "source": [
    "user_input = input(\"Enter a string: \")\n",
    "reversed_string = user_input[::-1]\n",
    "\n",
    "print(reversed_string)"
   ]
  },
  {
   "cell_type": "markdown",
   "id": "645d4f45-eec4-4b92-accf-9537b10c37a1",
   "metadata": {},
   "source": [
    "5. Write a Python program that accepts a string from the user. Your program should create a new string by shifting one position to the left.\n",
    "\n",
    "   For example, if the user enters the string 'examination 2021', then the new string would be 'xamination 2021e'."
   ]
  },
  {
   "cell_type": "code",
   "execution_count": 27,
   "id": "379b6ceb-b9ad-4ff4-a50d-b74d886f3c75",
   "metadata": {},
   "outputs": [
    {
     "name": "stdin",
     "output_type": "stream",
     "text": [
      "Enter a string:  kashif123\n"
     ]
    },
    {
     "name": "stdout",
     "output_type": "stream",
     "text": [
      "ashif123k\n"
     ]
    }
   ],
   "source": [
    "user_input = input(\"Enter a string: \")\n",
    "if len(user_input) > 1:\n",
    "    shifted_string = user_input[1:] + user_input[0]\n",
    "else:\n",
    "    shifted_string = user_input\n",
    "print(shifted_string)"
   ]
  },
  {
   "cell_type": "markdown",
   "id": "d7068b72-441d-458c-afbb-31d14044cebf",
   "metadata": {},
   "source": [
    "6. Write a program that asks the user to input his name and print its initials. Assuming that the user always types first name, middle name, and last name and does not include any unnecessary spaces.\n",
    "\n",
    "    For example, if the user enters Ajay Kumar Garg, the program should display A. K. G.\n",
    "\n",
    "    Note: Don't use the split() method."
   ]
  },
  {
   "cell_type": "code",
   "execution_count": 32,
   "id": "01fea735-2245-4b71-856b-4f99eb848bbd",
   "metadata": {},
   "outputs": [
    {
     "name": "stdin",
     "output_type": "stream",
     "text": [
      "Enter your full name:  kk\n"
     ]
    },
    {
     "name": "stdout",
     "output_type": "stream",
     "text": [
      "Initials: K.\n"
     ]
    }
   ],
   "source": [
    "name = input(\"Enter your full name: \")\n",
    "initials = \"\"\n",
    "found_space = True\n",
    "for char in name:\n",
    "    if found_space and char != \" \":  \n",
    "        initials += char.upper() + \". \"  \n",
    "        found_space = False \n",
    "    elif char == \" \": \n",
    "        found_space = True\n",
    "print(\"Initials:\", initials.strip())\n"
   ]
  },
  {
   "cell_type": "markdown",
   "id": "937f8e50-1de5-4040-9ada-2cefb85946fd",
   "metadata": {},
   "source": [
    "7. A palindrome is a string that reads the same backward as forward.\n",
    "For example, the words dad, madam, and radar are all palindromes.\n",
    "Write a program that determines whether the string is a palindrome.\n",
    "Note. do not use reverse method"
   ]
  },
  {
   "cell_type": "code",
   "execution_count": 43,
   "id": "9336e067-bf60-40da-a8e1-6ee6ecbb1e38",
   "metadata": {},
   "outputs": [
    {
     "name": "stdin",
     "output_type": "stream",
     "text": [
      "Enter a string:  rotator\n"
     ]
    },
    {
     "name": "stdout",
     "output_type": "stream",
     "text": [
      "The string is a palindrome.\n"
     ]
    }
   ],
   "source": [
    "text = input(\"Enter a string: \")\n",
    "length = 0\n",
    "for char in text:\n",
    "    length += 1\n",
    "is_palindrome = True \n",
    "i = 0\n",
    "while i < length // 2:\n",
    "    if text[i] != text[length - i - 1]:  \n",
    "        is_palindrome = False\n",
    "        break\n",
    "    i += 1\n",
    "\n",
    "if is_palindrome:\n",
    "    print(\"The string is a palindrome.\")\n",
    "else:\n",
    "    print(\"The string is not a palindrome.\")"
   ]
  },
  {
   "cell_type": "markdown",
   "id": "41fbbb32-2001-47bf-bbad-4439dde508cd",
   "metadata": {},
   "source": [
    "8. Write a program that display following output:\n",
    "* SHIFT\n",
    "* HIFTS\n",
    "* IFTSH\n",
    "* FTSHI\n",
    "* TSHIF\n",
    "* SHIFT"
   ]
  },
  {
   "cell_type": "code",
   "execution_count": 44,
   "id": "ff4a113f-3ba5-44ea-afa9-c79a06e33297",
   "metadata": {},
   "outputs": [
    {
     "name": "stdout",
     "output_type": "stream",
     "text": [
      "SHIFT\n",
      "HIFTS\n",
      "IFTSH\n",
      "FTSHI\n",
      "TSHIF\n",
      "SHIFT\n"
     ]
    }
   ],
   "source": [
    "word = \"SHIFT\"\n",
    "print(word)\n",
    "print(word[1:] + word[0])\n",
    "print(word[2:] + word[:2])\n",
    "print(word[3:] + word[:3])\n",
    "print(word[4:] + word[:4])\n",
    "print(word)  \n"
   ]
  },
  {
   "cell_type": "markdown",
   "id": "81a1af6e-2122-4ce4-830d-1f8d002cbff8",
   "metadata": {},
   "source": [
    "9. Write a program in Python that accepts a string to set up a password. Your entered password must meet the following requirements:\n",
    "\n",
    "* The password must be at least eight characters long.\n",
    "* It must contain at least one uppercase letter.\n",
    "* It must contain at least one lowercase letter.\n",
    "* It must contain at least one numeric digit.\n",
    "* Your program should perform this validation."
   ]
  },
  {
   "cell_type": "code",
   "execution_count": 51,
   "id": "4f497815-3da5-4ee8-8ea7-dd141359312a",
   "metadata": {},
   "outputs": [
    {
     "name": "stdin",
     "output_type": "stream",
     "text": [
      "Enter your password:  Kashif123@\n"
     ]
    },
    {
     "name": "stdout",
     "output_type": "stream",
     "text": [
      "Password is valid.\n"
     ]
    }
   ],
   "source": [
    "password = input(\"Enter your password: \")\n",
    "\n",
    "has_upper = False\n",
    "has_lower = False\n",
    "has_digit = False\n",
    "\n",
    "if len(password) < 8:\n",
    "    print(\"Password must be at least 8 characters long.\")\n",
    "else:\n",
    "    for char in password:\n",
    "        if char.isupper():\n",
    "            has_upper = True\n",
    "        if char.islower():\n",
    "            has_lower = True\n",
    "        if char.isdigit():\n",
    "            has_digit = True\n",
    "\n",
    "    if not has_upper:\n",
    "        print(\"Password must contain at least one uppercase letter.\")\n",
    "    elif not has_lower:\n",
    "        print(\"Password must contain at least one lowercase letter.\")\n",
    "    elif not has_digit:\n",
    "        print(\"Password must contain at least one numeric digit.\")\n",
    "    else:\n",
    "        print(\"Password is valid.\")\n"
   ]
  },
  {
   "cell_type": "code",
   "execution_count": null,
   "id": "4c925f93-8b47-4a00-99ed-8686e6c31bf5",
   "metadata": {},
   "outputs": [],
   "source": []
  }
 ],
 "metadata": {
  "kernelspec": {
   "display_name": "Python 3 (ipykernel)",
   "language": "python",
   "name": "python3"
  },
  "language_info": {
   "codemirror_mode": {
    "name": "ipython",
    "version": 3
   },
   "file_extension": ".py",
   "mimetype": "text/x-python",
   "name": "python",
   "nbconvert_exporter": "python",
   "pygments_lexer": "ipython3",
   "version": "3.12.7"
  }
 },
 "nbformat": 4,
 "nbformat_minor": 5
}
